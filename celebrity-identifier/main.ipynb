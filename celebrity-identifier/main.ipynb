{
 "cells": [
  {
   "cell_type": "markdown",
   "metadata": {},
   "source": [
    "# Celebrity Identifier Using Gemini 2.0 Flash"
   ]
  },
  {
   "cell_type": "markdown",
   "metadata": {},
   "source": [
    "## Introduction\n",
    "\n",
    "Here, I leverage Gemini 2.0 Flash accessed via the `google.generativeai` library to identify celebrities in images uploaded by the user. It explores prompt engineering for effective interaction with the LLM and structured output for displaying the identified celebrity's information."
   ]
  },
  {
   "cell_type": "markdown",
   "metadata": {},
   "source": [
    "## Initial Setup\n"
   ]
  },
  {
   "cell_type": "code",
   "execution_count": 11,
   "metadata": {},
   "outputs": [],
   "source": [
    "import google.generativeai as genai\n",
    "from PIL import Image\n",
    "import os\n",
    "from IPython.display import display, Markdown\n",
    "from dotenv import load_dotenv\n",
    "import ipywidgets as widgets\n",
    "from IPython.display import display\n",
    "import io\n",
    "from utils import sanitize_filename, generate_unique_filename"
   ]
  },
  {
   "cell_type": "markdown",
   "metadata": {},
   "source": [
    "## API Setup & Model Initialization\n",
    "\n",
    "Initialize the Gemini 2.0 Flash model.  We choose the 'gemini-1.5-flash' model."
   ]
  },
  {
   "cell_type": "code",
   "execution_count": 10,
   "metadata": {},
   "outputs": [],
   "source": [
    "load_dotenv()\n",
    "\n",
    "# Get the API key from the environment variables\n",
    "GOOGLE_API_KEY = os.getenv(\"GOOGLE_API_KEY\")\n",
    "\n",
    "if GOOGLE_API_KEY is None:\n",
    "    print(\"Error: GOOGLE_API_KEY not found in environment variables.  Please set it in a .env file.\")\n",
    "    exit()  # Exit if the API key is not found\n",
    "\n",
    "# Configure the Gemini API\n",
    "genai.configure(api_key=GOOGLE_API_KEY)\n",
    "\n",
    "\n",
    "model = genai.GenerativeModel('gemini-1.5-flash')\n",
    "\n",
    "\n",
    "#creating the img_folder variable to reference the uploaded image folder.\n",
    "IMG_FOLDER = \"static/img\"\n",
    "if not os.path.exists(IMG_FOLDER):\n",
    "    os.makedirs(IMG_FOLDER)\n",
    "    print(f\"Created '{IMG_FOLDER}' folder.\")"
   ]
  },
  {
   "cell_type": "markdown",
   "metadata": {},
   "source": [
    "## Prompt Engineering and Celebrity Identification Function\n",
    "\n",
    "This function takes the image path as input, constructs a prompt for the Gemini model, sends the image and prompt to the model, and returns the model's response.  The prompt is crucial for guiding the model to provide the desired output: the name of the celebrity in the image and some relevant information."
   ]
  },
  {
   "cell_type": "code",
   "execution_count": 12,
   "metadata": {},
   "outputs": [],
   "source": [
    "def identify_celebrity(image_path):\n",
    "    \"\"\"Identifies the celebrity in the image using Gemini 2.0 Flash.\n",
    "\n",
    "    Args:\n",
    "        image_path: The path to the image file.\n",
    "\n",
    "    Returns:\n",
    "        A string containing the model's response, or None if there was an error.\n",
    "    \"\"\"\n",
    "    try:\n",
    "        img = Image.open(image_path)\n",
    "        # resize the image to a maximum of 1024x1024 to prevent issues with large images\n",
    "        img.thumbnail((1024, 1024))\n",
    "\n",
    "        prompt_text = \"\"\"\n",
    "        You are an expert celebrity identifier.  Analyze the image provided and identify the celebrity in the image.\n",
    "        Provide the celebrity's name, a brief biography (2-3 sentences), a table highlighting details of their most popular works, and three interesting facts about them.\n",
    "        Format your response as follows:\n",
    "\n",
    "        **Celebrity Name:** [Celebrity's Full Name]\n",
    "\n",
    "        **Biography:**\n",
    "        [2-3 sentence biography]\n",
    "        \n",
    "        **Work History:**\n",
    "        [Table with details of their most popular works]\n",
    "\n",
    "        **Interesting Facts:**\n",
    "        1.  [Fact 1]\n",
    "        2.  [Fact 2]\n",
    "        3.  [Fact 3]\n",
    "        \"\"\"\n",
    "\n",
    "        response = model.generate_content([prompt_text, img])\n",
    "        return response.text\n",
    "    except Exception as e:\n",
    "        print(f\"Error processing image: {e}\")\n",
    "        return None\n"
   ]
  },
  {
   "cell_type": "markdown",
   "metadata": {},
   "source": [
    "## Image Upload Function"
   ]
  },
  {
   "cell_type": "code",
   "execution_count": 14,
   "metadata": {},
   "outputs": [],
   "source": [
    "def on_upload_success(change):\n",
    "    global image_path  # Declare image_path as global\n",
    "    if len(change['new']) > 0:\n",
    "        uploaded_file = change['new'][0]  # Get the file information\n",
    "\n",
    "        filename = uploaded_file['name']  # Get the filename\n",
    "        content = uploaded_file['content']  # Get the file content (bytes)\n",
    "\n",
    "        # Sanitize filename (important for security)\n",
    "        filename = sanitize_filename(filename)\n",
    "\n",
    "        # Generate unique filename (prevent collisions)\n",
    "        filename = generate_unique_filename(filename)\n",
    "\n",
    "        # Construct file path\n",
    "        image_path = os.path.join(IMG_FOLDER, filename)\n",
    "\n",
    "        # Save the image to the static folder\n",
    "        try:\n",
    "            with open(image_path, 'wb') as f:\n",
    "                f.write(content)\n",
    "            print(f\"Image '{filename}' saved to '{IMG_FOLDER}'\")\n",
    "\n",
    "            # Now proceed with celebrity identification\n",
    "            celebrity_info = identify_celebrity(image_path)\n",
    "\n",
    "            # Display the results\n",
    "            if celebrity_info:\n",
    "                print(\"Celebrity Identification Results:\")\n",
    "                display(Markdown(celebrity_info))  # Use Markdown for better formatting\n",
    "            else:\n",
    "                print(\"Could not identify the celebrity in the image.\")\n",
    "\n",
    "        except Exception as e:\n",
    "            print(f\"Error saving image: {e}\")\n",
    "            image_path = None\n",
    "    else:\n",
    "        print(\"No file uploaded.\")\n",
    "        image_path = None\n"
   ]
  },
  {
   "cell_type": "markdown",
   "metadata": {},
   "source": [
    "## Main Execution Block\n",
    "\n",
    "This part of the notebook orchestrates the image upload, celebrity identification, and displays the result in a structured format."
   ]
  },
  {
   "cell_type": "code",
   "execution_count": 15,
   "metadata": {},
   "outputs": [
    {
     "data": {
      "application/vnd.jupyter.widget-view+json": {
       "model_id": "fcd036e5e80a47ff8dcc35aef9459290",
       "version_major": 2,
       "version_minor": 0
      },
      "text/plain": [
       "FileUpload(value=(), accept='image/*', description='Upload')"
      ]
     },
     "metadata": {},
     "output_type": "display_data"
    },
    {
     "name": "stdout",
     "output_type": "stream",
     "text": [
      "Image '8eec1981-3f86-422b-a02e-c8ab6e571f74.jpeg' saved to 'static/img'\n",
      "Celebrity Identification Results:\n"
     ]
    },
    {
     "data": {
      "text/markdown": [
       "**Celebrity Name:** Sofia Vergara\n",
       "\n",
       "**Biography:**\n",
       "\n",
       "Sofia Vergara is a Colombian-American actress, best known for her role as Gloria Delgado-Pritchett on the ABC sitcom *Modern Family*.  Her comedic timing and vibrant personality have made her one of television's highest-paid actresses, and she's also a successful businesswoman with various endorsements and ventures.  Beyond acting, she has a significant presence in the media and entertainment industry as a whole.\n",
       "\n",
       "\n",
       "**Work History:**\n",
       "\n",
       "| Work Title             | Type          | Year      | Notes                                         |\n",
       "|------------------------|----------------|------------|---------------------------------------------|\n",
       "| Modern Family          | Television Series | 2009-2020 | Breakout role; earned numerous awards and nominations |\n",
       "| Chef                       | Film          | 2012      | Notable film role                               |\n",
       "| Hot Pursuit              | Film          | 2015      | Leading role alongside Reese Witherspoon         |\n",
       "|  Smurfs Movie Franchise| Film          | 2011-2017| Voice acting role                            |\n",
       "\n",
       "\n",
       "**Interesting Facts:**\n",
       "\n",
       "1.  Sofia Vergara was discovered while walking on a beach in Barranquilla, Colombia, leading to her early modeling and television career.\n",
       "2.  She is a successful businesswoman, owning her own production company and having numerous successful endorsements.\n",
       "3.  Before achieving international fame, Vergara was a popular TV host in Colombia.\n"
      ],
      "text/plain": [
       "<IPython.core.display.Markdown object>"
      ]
     },
     "metadata": {},
     "output_type": "display_data"
    }
   ],
   "source": [
    "# 1. Upload the image and get the file path.\n",
    "uploader = widgets.FileUpload(\n",
    "    accept='image/*',  # Allow only image files\n",
    "    multiple=False  # Allow only one file to be uploaded\n",
    ")\n",
    "\n",
    "image_path = None  # Initialize image_path outside the callback\n",
    "\n",
    "uploader.observe(on_upload_success, names=['value'])\n",
    "display(uploader)"
   ]
  },
  {
   "cell_type": "markdown",
   "metadata": {},
   "source": [
    "<h3>Author:</h2>\n",
    "\n",
    "<a href=\"https://www.linkedin.com/in/mnnamchi/\">Martins Nnamchi</a>\n"
   ]
  }
 ],
 "metadata": {
  "kernelspec": {
   "display_name": "Env2",
   "language": "python",
   "name": "python3"
  },
  "language_info": {
   "codemirror_mode": {
    "name": "ipython",
    "version": 3
   },
   "file_extension": ".py",
   "mimetype": "text/x-python",
   "name": "python",
   "nbconvert_exporter": "python",
   "pygments_lexer": "ipython3",
   "version": "3.11.11"
  }
 },
 "nbformat": 4,
 "nbformat_minor": 2
}
