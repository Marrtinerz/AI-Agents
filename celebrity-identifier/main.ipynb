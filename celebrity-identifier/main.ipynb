{
 "cells": [
  {
   "cell_type": "markdown",
   "metadata": {},
   "source": [
    "# Celebrity Identifier Using Gemini 2.0 Flash"
   ]
  },
  {
   "cell_type": "markdown",
   "metadata": {},
   "source": [
    "## Introduction\n",
    "\n",
    "Here, I leverage Gemini 2.0 Flash accessed via the `google.generativeai` library to identify celebrities in images uploaded by the user. It explores prompt engineering for effective interaction with the LLM and structured output for displaying the identified celebrity's information."
   ]
  },
  {
   "cell_type": "markdown",
   "metadata": {},
   "source": [
    "## Initial Setup\n"
   ]
  },
  {
   "cell_type": "code",
   "execution_count": 11,
   "metadata": {},
   "outputs": [],
   "source": [
    "import google.generativeai as genai\n",
    "from PIL import Image\n",
    "import os\n",
    "from IPython.display import display, Markdown\n",
    "from dotenv import load_dotenv\n",
    "import ipywidgets as widgets\n",
    "from IPython.display import display\n",
    "import io\n",
    "from utils import sanitize_filename, generate_unique_filename"
   ]
  },
  {
   "cell_type": "markdown",
   "metadata": {},
   "source": [
    "## API Setup & Model Initialization\n",
    "\n",
    "Initialize the Gemini 2.0 Flash model.  We choose the 'gemini-1.5-flash' model."
   ]
  },
  {
   "cell_type": "code",
   "execution_count": 16,
   "metadata": {},
   "outputs": [],
   "source": [
    "load_dotenv()\n",
    "\n",
    "# Get the API key from the environment variables\n",
    "GOOGLE_API_KEY = os.getenv(\"GOOGLE_API_KEY\")\n",
    "\n",
    "if GOOGLE_API_KEY is None:\n",
    "    print(\"Error: GOOGLE_API_KEY not found in environment variables.  Please set it in a .env file.\")\n",
    "    exit()  # Exit if the API key is not found\n",
    "\n",
    "# Configure the Gemini API\n",
    "genai.configure(api_key=GOOGLE_API_KEY)\n",
    "\n",
    "\n",
    "model = genai.GenerativeModel('gemini-2.0-flash')\n",
    "\n",
    "\n",
    "#creating the img_folder variable to reference the uploaded image folder.\n",
    "IMG_FOLDER = \"static/img\"\n",
    "if not os.path.exists(IMG_FOLDER):\n",
    "    os.makedirs(IMG_FOLDER)\n",
    "    print(f\"Created '{IMG_FOLDER}' folder.\")"
   ]
  },
  {
   "cell_type": "markdown",
   "metadata": {},
   "source": [
    "## Prompt Engineering and Celebrity Identification Function\n",
    "\n",
    "This function takes the image path as input, constructs a prompt for the Gemini model, sends the image and prompt to the model, and returns the model's response.  The prompt is crucial for guiding the model to provide the desired output: the name of the celebrity in the image and some relevant information."
   ]
  },
  {
   "cell_type": "code",
   "execution_count": 12,
   "metadata": {},
   "outputs": [],
   "source": [
    "def identify_celebrity(image_path):\n",
    "    \"\"\"Identifies the celebrity in the image using Gemini 2.0 Flash.\n",
    "\n",
    "    Args:\n",
    "        image_path: The path to the image file.\n",
    "\n",
    "    Returns:\n",
    "        A string containing the model's response, or None if there was an error.\n",
    "    \"\"\"\n",
    "    try:\n",
    "        img = Image.open(image_path)\n",
    "        # resize the image to a maximum of 1024x1024 to prevent issues with large images\n",
    "        img.thumbnail((1024, 1024))\n",
    "\n",
    "        prompt_text = \"\"\"\n",
    "        You are an expert celebrity identifier.  Analyze the image provided and identify the celebrity in the image.\n",
    "        Provide the celebrity's name, a brief biography (2-3 sentences), a table highlighting details of their most popular works, and three interesting facts about them.\n",
    "        Format your response as follows:\n",
    "\n",
    "        **Celebrity Name:** [Celebrity's Full Name]\n",
    "\n",
    "        **Biography:**\n",
    "        [2-3 sentence biography]\n",
    "        \n",
    "        **Work History:**\n",
    "        [Table with details of their most popular works]\n",
    "\n",
    "        **Interesting Facts:**\n",
    "        1.  [Fact 1]\n",
    "        2.  [Fact 2]\n",
    "        3.  [Fact 3]\n",
    "        \"\"\"\n",
    "\n",
    "        response = model.generate_content([prompt_text, img])\n",
    "        return response.text\n",
    "    except Exception as e:\n",
    "        print(f\"Error processing image: {e}\")\n",
    "        return None\n"
   ]
  },
  {
   "cell_type": "markdown",
   "metadata": {},
   "source": [
    "## Image Upload Function"
   ]
  },
  {
   "cell_type": "code",
   "execution_count": 14,
   "metadata": {},
   "outputs": [],
   "source": [
    "def on_upload_success(change):\n",
    "    global image_path  # Declare image_path as global\n",
    "    if len(change['new']) > 0:\n",
    "        uploaded_file = change['new'][0]  # Get the file information\n",
    "\n",
    "        filename = uploaded_file['name']  # Get the filename\n",
    "        content = uploaded_file['content']  # Get the file content (bytes)\n",
    "\n",
    "        # Sanitize filename (important for security)\n",
    "        filename = sanitize_filename(filename)\n",
    "\n",
    "        # Generate unique filename (prevent collisions)\n",
    "        filename = generate_unique_filename(filename)\n",
    "\n",
    "        # Construct file path\n",
    "        image_path = os.path.join(IMG_FOLDER, filename)\n",
    "\n",
    "        # Save the image to the static folder\n",
    "        try:\n",
    "            with open(image_path, 'wb') as f:\n",
    "                f.write(content)\n",
    "            print(f\"Image '{filename}' saved to '{IMG_FOLDER}'\")\n",
    "\n",
    "            # Now proceed with celebrity identification\n",
    "            celebrity_info = identify_celebrity(image_path)\n",
    "\n",
    "            # Display the results\n",
    "            if celebrity_info:\n",
    "                print(\"Celebrity Identification Results:\")\n",
    "                display(Markdown(celebrity_info))  # Use Markdown for better formatting\n",
    "            else:\n",
    "                print(\"Could not identify the celebrity in the image.\")\n",
    "\n",
    "        except Exception as e:\n",
    "            print(f\"Error saving image: {e}\")\n",
    "            image_path = None\n",
    "    else:\n",
    "        print(\"No file uploaded.\")\n",
    "        image_path = None\n"
   ]
  },
  {
   "cell_type": "markdown",
   "metadata": {},
   "source": [
    "## Main Execution Block\n",
    "\n",
    "This part of the notebook orchestrates the image upload, celebrity identification, and displays the result in a structured format."
   ]
  },
  {
   "cell_type": "code",
   "execution_count": 18,
   "metadata": {},
   "outputs": [
    {
     "data": {
      "application/vnd.jupyter.widget-view+json": {
       "model_id": "98cfb6b8d6ad4abe992a5722b2fd5945",
       "version_major": 2,
       "version_minor": 0
      },
      "text/plain": [
       "FileUpload(value=(), accept='image/*', description='Upload')"
      ]
     },
     "metadata": {},
     "output_type": "display_data"
    },
    {
     "name": "stdout",
     "output_type": "stream",
     "text": [
      "Image 'aa55e3c6-efde-45a3-a6a6-ac0fa16b1229.jpeg' saved to 'static/img'\n",
      "Celebrity Identification Results:\n"
     ]
    },
    {
     "data": {
      "text/markdown": [
       "Okay, I'm ready to analyze the image.\n",
       "\n",
       "**Celebrity Name:** Sofía Vergara\n",
       "\n",
       "**Biography:**\n",
       "Sofía Vergara is a Colombian-American actress, television producer, presenter, and model. She rose to prominence for co-hosting two television shows for Spanish-language television network Univisión in the late 1990s and made her Hollywood breakthrough as Gloria Delgado-Pritchett in the ABC sitcom *Modern Family*, for which she was nominated for four Primetime Emmy Awards and four Golden Globe Awards.\n",
       "\n",
       "**Work History:**\n",
       "\n",
       "| Title | Year | Role | Description |\n",
       "|---|---|---|---|\n",
       "| Modern Family | 2009-2020 | Gloria Delgado-Pritchett | A fiery and passionate Colombian woman married to Jay Pritchett. |\n",
       "| The Smurfs | 2011 | Odile Anjelou | The head of a cosmetic company and Patrick's boss. |\n",
       "| Machete Kills | 2013 | Madame Desdemona | A brothel madame |\n",
       "| Hot Pursuit | 2015 | Daniella Riva | A drug lord's wife who is being protected by a police officer (Reese Witherspoon). |\n",
       "| America's Got Talent | 2020-Present | Judge | Judge for the reality show. |\n",
       "\n",
       "**Interesting Facts:**\n",
       "1.  Sofía Vergara was discovered on a Colombian beach when she was 17 years old.\n",
       "2.  She overcame thyroid cancer in her early 20s and has since been a vocal advocate for thyroid health.\n",
       "3.  Vergara is a natural blonde but dyes her hair brunette for acting roles because she believes it helps her get cast in more Latina roles.\n"
      ],
      "text/plain": [
       "<IPython.core.display.Markdown object>"
      ]
     },
     "metadata": {},
     "output_type": "display_data"
    }
   ],
   "source": [
    "# 1. Upload the image and get the file path.\n",
    "uploader = widgets.FileUpload(\n",
    "    accept='image/*',  # Allow only image files\n",
    "    multiple=False  # Allow only one file to be uploaded\n",
    ")\n",
    "\n",
    "image_path = None  # Initialize image_path outside the callback\n",
    "\n",
    "uploader.observe(on_upload_success, names=['value'])\n",
    "display(uploader)"
   ]
  },
  {
   "cell_type": "markdown",
   "metadata": {},
   "source": [
    "<h3>Author:</h2>\n",
    "\n",
    "<a href=\"https://www.linkedin.com/in/mnnamchi/\">Martins Nnamchi</a>\n"
   ]
  }
 ],
 "metadata": {
  "kernelspec": {
   "display_name": "Env2",
   "language": "python",
   "name": "python3"
  },
  "language_info": {
   "codemirror_mode": {
    "name": "ipython",
    "version": 3
   },
   "file_extension": ".py",
   "mimetype": "text/x-python",
   "name": "python",
   "nbconvert_exporter": "python",
   "pygments_lexer": "ipython3",
   "version": "3.11.11"
  }
 },
 "nbformat": 4,
 "nbformat_minor": 2
}
